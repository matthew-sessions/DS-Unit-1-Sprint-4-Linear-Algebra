{
  "nbformat": 4,
  "nbformat_minor": 0,
  "metadata": {
    "colab": {
      "name": "High Dimensional Data Assignment.ipynb",
      "version": "0.3.2",
      "provenance": [],
      "collapsed_sections": [],
      "include_colab_link": true
    },
    "kernelspec": {
      "name": "python3",
      "display_name": "Python 3"
    }
  },
  "cells": [
    {
      "cell_type": "markdown",
      "metadata": {
        "id": "view-in-github",
        "colab_type": "text"
      },
      "source": [
        "<a href=\"https://colab.research.google.com/github/matthew-sessions/DS-Unit-1-Sprint-4-Linear-Algebra/blob/master/module3-dimensionality-reduction/High%20Dimensional%20Data%20Assignment.ipynb\" target=\"_parent\"><img src=\"https://colab.research.google.com/assets/colab-badge.svg\" alt=\"Open In Colab\"/></a>"
      ]
    },
    {
      "cell_type": "markdown",
      "metadata": {
        "id": "7wMWCkE1RZpM",
        "colab_type": "text"
      },
      "source": [
        "# Vertical Line Test"
      ]
    },
    {
      "cell_type": "markdown",
      "metadata": {
        "id": "W0-g7aprRv2j",
        "colab_type": "text"
      },
      "source": [
        "## 1.1 Create two graphs, one that passes the vertical line test and one that does not."
      ]
    },
    {
      "cell_type": "code",
      "metadata": {
        "id": "MA_lyxAkvhxH",
        "colab_type": "code",
        "outputId": "06d33804-2cfb-4634-8ab1-a7dd6ccd0e28",
        "colab": {
          "base_uri": "https://localhost:8080/",
          "height": 281
        }
      },
      "source": [
        "import matplotlib.pyplot as plt\n",
        "import seaborn as sns\n",
        "\n",
        "sns.set_style('darkgrid')\n",
        "\n",
        "input_vector = [-3, 4]\n",
        "output_vector = [5, -2]\n",
        "\n",
        "\n",
        "plt.arrow(0,0, input_vector[0], input_vector[1],head_width=.05, head_length=0.05, color ='blue')\n",
        "plt.arrow(0,0, output_vector[0], output_vector[1],head_width=.05, head_length=0.05, color ='blue')\n",
        "plt.xlim(-6,6)          \n",
        "plt.ylim(-6,6)\n",
        "plt.title(\"Does pass\")\n",
        "plt.show()"
      ],
      "execution_count": 1,
      "outputs": [
        {
          "output_type": "display_data",
          "data": {
            "image/png": "[encoded data removed]",
            "text/plain": [
              "<Figure size 432x288 with 1 Axes>"
            ]
          },
          "metadata": {
            "tags": []
          }
        }
      ]
    },
    {
      "cell_type": "code",
      "metadata": {
        "id": "fIJhCtF6RW_U",
        "colab_type": "code",
        "outputId": "e7bb6a0c-e2bd-4518-f657-e7f5ecfad998",
        "colab": {
          "base_uri": "https://localhost:8080/",
          "height": 281
        }
      },
      "source": [
        "\n",
        "input_vector = [3, 4]\n",
        "output_vector = [5, -2]\n",
        "\n",
        "\n",
        "plt.arrow(0,0, input_vector[0], input_vector[1],head_width=.05, head_length=0.05, color ='blue')\n",
        "plt.arrow(0,0, output_vector[0], output_vector[1],head_width=.05, head_length=0.05, color ='blue')\n",
        "plt.xlim(-6,6)          \n",
        "plt.ylim(-6,6)\n",
        "plt.title(\"Does not pass\")\n",
        "plt.show()"
      ],
      "execution_count": 2,
      "outputs": [
        {
          "output_type": "display_data",
          "data": {
            "image/png": "[encoded data removed]",
            "text/plain": [
              "<Figure size 432x288 with 1 Axes>"
            ]
          },
          "metadata": {
            "tags": []
          }
        }
      ]
    },
    {
      "cell_type": "markdown",
      "metadata": {
        "id": "ckeTKqMgRy7g",
        "colab_type": "text"
      },
      "source": [
        "## 1.2 Why are graphs that don't pass the vertical line test not considered \"functions?\""
      ]
    },
    {
      "cell_type": "markdown",
      "metadata": {
        "id": "Gtl20YeDR6x-",
        "colab_type": "text"
      },
      "source": [
        "Becuase a set of inputs has more than one output."
      ]
    },
    {
      "cell_type": "markdown",
      "metadata": {
        "id": "g21uN62xSKSk",
        "colab_type": "text"
      },
      "source": [
        "# Functions as Relations"
      ]
    },
    {
      "cell_type": "markdown",
      "metadata": {
        "id": "gwkcV-EMSMNd",
        "colab_type": "text"
      },
      "source": [
        "## 2.1 Which of the following relations are functions? Why?\n",
        "\n",
        "\\begin{align}\n",
        "\\text{Relation 1: } \\{(1, 2), (3, 2), (1, 3)\\}\n",
        "\\\\\n",
        "\\text{Relation 2: } \\{(1, 3), (2, 3), (6, 7)\\}\n",
        "\\\\\n",
        "\\text{Relation 3: } \\{(9, 4), (2, 1), (9, 6)\\}\n",
        "\\\\\n",
        "\\text{Relation 4: } \\{(6, 2), (8, 3), (6, 4)\\}\n",
        "\\\\\n",
        "\\text{Relation 5: } \\{(2, 6), (2, 7), (2, 4)\\}\n",
        "\\end{align}"
      ]
    },
    {
      "cell_type": "code",
      "metadata": {
        "id": "qY0XTvHDxaXv",
        "colab_type": "code",
        "colab": {
          "base_uri": "https://localhost:8080/",
          "height": 128
        },
        "outputId": "cca9968f-d801-47a6-8be7-40a0546445da"
      },
      "source": [
        "Relation 2 is a funtion becuase it passes the vertical line test."
      ],
      "execution_count": 3,
      "outputs": [
        {
          "output_type": "error",
          "ename": "SyntaxError",
          "evalue": "ignored",
          "traceback": [
            "\u001b[0;36m  File \u001b[0;32m\"<ipython-input-3-adc1005c472a>\"\u001b[0;36m, line \u001b[0;32m1\u001b[0m\n\u001b[0;31m    Relation 2 is a funtion becuase it passes the vertical line test.\u001b[0m\n\u001b[0m             ^\u001b[0m\n\u001b[0;31mSyntaxError\u001b[0m\u001b[0;31m:\u001b[0m invalid syntax\n"
          ]
        }
      ]
    },
    {
      "cell_type": "markdown",
      "metadata": {
        "id": "y0U30PrlTAAa",
        "colab_type": "text"
      },
      "source": [
        "# Functions as a mapping between dimensions\n"
      ]
    },
    {
      "cell_type": "markdown",
      "metadata": {
        "id": "pw-OU9qmT5Ua",
        "colab_type": "text"
      },
      "source": [
        "## 3.1 for the following functions what is the dimensionality of the domain (input) and codomain (range/output)?\n",
        "\n",
        "\\begin{align}\n",
        "m(𝑥_1,𝑥_2,𝑥_3)=(x_1+x_2, x_1+x_3, x_2+x_3)\n",
        "\\\\\n",
        "n(𝑥_1,𝑥_2,𝑥_3,𝑥_4)=(x_2^2 + x_3, x_2x_4)\n",
        "\\end{align}"
      ]
    },
    {
      "cell_type": "code",
      "metadata": {
        "id": "6w_Kizm_0tPQ",
        "colab_type": "code",
        "colab": {}
      },
      "source": [
        "m is 3 dem to 2 dem\n",
        "n is 4 dem to 3 dem"
      ],
      "execution_count": 0,
      "outputs": []
    },
    {
      "cell_type": "markdown",
      "metadata": {
        "id": "k4tKHjdHUevC",
        "colab_type": "text"
      },
      "source": [
        "## 3.2 Do you think it's possible to create a function that maps from a lower dimensional space to a higher dimensional space? If so, provide an example."
      ]
    },
    {
      "cell_type": "markdown",
      "metadata": {
        "id": "71pasymF02jx",
        "colab_type": "text"
      },
      "source": [
        "It can't imagine how it would be possible, but it probably is possible."
      ]
    },
    {
      "cell_type": "markdown",
      "metadata": {
        "id": "2nEWvwVyVWdW",
        "colab_type": "text"
      },
      "source": [
        "# Vector Transformations"
      ]
    },
    {
      "cell_type": "markdown",
      "metadata": {
        "id": "1n0-6FsYVcVk",
        "colab_type": "text"
      },
      "source": [
        "## 4.1 Plug the corresponding unit vectors into each function. Use the output vectors to create a transformation matrix.\n",
        "\n",
        "\\begin{align}\n",
        "p(\\begin{bmatrix}x_1 \\\\ x_2 \\end{bmatrix}) = \\begin{bmatrix} x_1 + 3x_2 \\\\2 x_2 - x_1 \\\\  \\end{bmatrix}\n",
        "\\\\\n",
        "\\\\\n",
        "q(\\begin{bmatrix}x_1 \\\\ x_2 \\\\ x_3\\end{bmatrix}) = \\begin{bmatrix} 4x_1 + x_2 + 2x_3 \\\\2 x_2 - x_1 + 3x_3 \\\\ 5x_1 - 2x_3 + x_2  \\end{bmatrix}\n",
        "\\end{align}"
      ]
    },
    {
      "cell_type": "code",
      "metadata": {
        "id": "RAnt4vHE5dp_",
        "colab_type": "code",
        "colab": {}
      },
      "source": [
        "P -- T = [1 3]\n",
        "         [-1 2]\n",
        "\n",
        "Q -- T = [4 1 2]\n",
        "         [-1 2 3]\n",
        "         [5 1 -2]"
      ],
      "execution_count": 0,
      "outputs": []
    },
    {
      "cell_type": "markdown",
      "metadata": {
        "id": "n5HUOQIxZ2gp",
        "colab_type": "text"
      },
      "source": [
        "## 4.2 Verify that your transformation matrices are correct by choosing an input matrix and calculating the result both via the traditional functions above and also via vector-matrix multiplication."
      ]
    },
    {
      "cell_type": "markdown",
      "metadata": {
        "id": "K805INRI9GKc",
        "colab_type": "text"
      },
      "source": [
        "I did this on pen and paper."
      ]
    },
    {
      "cell_type": "code",
      "metadata": {
        "id": "0UANR1IEaVWE",
        "colab_type": "code",
        "outputId": "d04dc402-e9c0-439e-d8d8-9214a39b926b",
        "colab": {
          "base_uri": "https://localhost:8080/",
          "height": 67
        }
      },
      "source": [
        "import numpy as np\n",
        "\n",
        "t = np.array([[4,1,2],[-1,2,3],[5,1,-2]])\n",
        "plug = np.array([[1],[2],[1]])\n",
        "plug"
      ],
      "execution_count": 4,
      "outputs": [
        {
          "output_type": "execute_result",
          "data": {
            "text/plain": [
              "array([[1],\n",
              "       [2],\n",
              "       [1]])"
            ]
          },
          "metadata": {
            "tags": []
          },
          "execution_count": 4
        }
      ]
    },
    {
      "cell_type": "code",
      "metadata": {
        "id": "x8NDw6187_YY",
        "colab_type": "code",
        "outputId": "f5a69b42-c2dc-4399-b7a8-004c1406e6df",
        "colab": {
          "base_uri": "https://localhost:8080/",
          "height": 67
        }
      },
      "source": [
        "np.dot(t,plug)"
      ],
      "execution_count": 5,
      "outputs": [
        {
          "output_type": "execute_result",
          "data": {
            "text/plain": [
              "array([[8],\n",
              "       [6],\n",
              "       [5]])"
            ]
          },
          "metadata": {
            "tags": []
          },
          "execution_count": 5
        }
      ]
    },
    {
      "cell_type": "markdown",
      "metadata": {
        "id": "vEoiri3mak7j",
        "colab_type": "text"
      },
      "source": [
        "# Eigenvalues and Eigenvectors"
      ]
    },
    {
      "cell_type": "markdown",
      "metadata": {
        "id": "5HY0R4u7anIr",
        "colab_type": "text"
      },
      "source": [
        "## 5.1 In your own words, give an explanation for the intuition behind eigenvalues and eigenvectors."
      ]
    },
    {
      "cell_type": "markdown",
      "metadata": {
        "id": "b0jbNccB96o0",
        "colab_type": "text"
      },
      "source": [
        "An Eigenvector is a vector that does not change its orientation during a transformation. A eigenvalue is scalar of a eigenvector (how much it stretched/squished)."
      ]
    },
    {
      "cell_type": "markdown",
      "metadata": {
        "id": "VdehMwBtatKI",
        "colab_type": "text"
      },
      "source": [
        "# The Curse of Dimensionality"
      ]
    },
    {
      "cell_type": "markdown",
      "metadata": {
        "id": "4oVrJax-a3SK",
        "colab_type": "text"
      },
      "source": [
        "## 6.1 What are some of the challenges of working with high dimensional spaces?"
      ]
    },
    {
      "cell_type": "markdown",
      "metadata": {
        "id": "s-Dy60wJ-24o",
        "colab_type": "text"
      },
      "source": [
        "It is hard to visualize, process, and some features may be dependent on other other features."
      ]
    },
    {
      "cell_type": "markdown",
      "metadata": {
        "id": "ZiBJxsZla88c",
        "colab_type": "text"
      },
      "source": [
        "## 6.2 What is the rule of thumb for how many observations you should have compared to parameters in your model?"
      ]
    },
    {
      "cell_type": "markdown",
      "metadata": {
        "id": "a9FRzCiL_N2J",
        "colab_type": "text"
      },
      "source": [
        "To have at least 5x the numver of observations as you have parameters."
      ]
    },
    {
      "cell_type": "markdown",
      "metadata": {
        "id": "NZmqdeygbHJx",
        "colab_type": "text"
      },
      "source": [
        "# Principal Component Analysis"
      ]
    },
    {
      "cell_type": "markdown",
      "metadata": {
        "id": "7iEheetpbJdN",
        "colab_type": "text"
      },
      "source": [
        "## 7.1 Load the UCI Machine Learning Repository's [Iris Dataset](https://gist.githubusercontent.com/curran/a08a1080b88344b0c8a7/raw/d546eaee765268bf2f487608c537c05e22e4b221/iris.csv) and use PCA to isolate the dataset's first and second principal components and plot them on a graph. "
      ]
    },
    {
      "cell_type": "code",
      "metadata": {
        "id": "wy9AZVgZcHLZ",
        "colab_type": "code",
        "outputId": "f2512cdc-cb4b-4e79-c3dc-ffa8ebd2718b",
        "colab": {
          "base_uri": "https://localhost:8080/",
          "height": 195
        }
      },
      "source": [
        "import pandas as pd\n",
        "\n",
        "df = pd.read_csv('https://gist.githubusercontent.com/curran/a08a1080b88344b0c8a7/raw/d546eaee765268bf2f487608c537c05e22e4b221/iris.csv')\n",
        "df.head()"
      ],
      "execution_count": 6,
      "outputs": [
        {
          "output_type": "execute_result",
          "data": {
            "text/html": [
              "<div>\n",
              "<style scoped>\n",
              "    .dataframe tbody tr th:only-of-type {\n",
              "        vertical-align: middle;\n",
              "    }\n",
              "\n",
              "    .dataframe tbody tr th {\n",
              "        vertical-align: top;\n",
              "    }\n",
              "\n",
              "    .dataframe thead th {\n",
              "        text-align: right;\n",
              "    }\n",
              "</style>\n",
              "<table border=\"1\" class=\"dataframe\">\n",
              "  <thead>\n",
              "    <tr style=\"text-align: right;\">\n",
              "      <th></th>\n",
              "      <th>sepal_length</th>\n",
              "      <th>sepal_width</th>\n",
              "      <th>petal_length</th>\n",
              "      <th>petal_width</th>\n",
              "      <th>species</th>\n",
              "    </tr>\n",
              "  </thead>\n",
              "  <tbody>\n",
              "    <tr>\n",
              "      <th>0</th>\n",
              "      <td>5.1</td>\n",
              "      <td>3.5</td>\n",
              "      <td>1.4</td>\n",
              "      <td>0.2</td>\n",
              "      <td>setosa</td>\n",
              "    </tr>\n",
              "    <tr>\n",
              "      <th>1</th>\n",
              "      <td>4.9</td>\n",
              "      <td>3.0</td>\n",
              "      <td>1.4</td>\n",
              "      <td>0.2</td>\n",
              "      <td>setosa</td>\n",
              "    </tr>\n",
              "    <tr>\n",
              "      <th>2</th>\n",
              "      <td>4.7</td>\n",
              "      <td>3.2</td>\n",
              "      <td>1.3</td>\n",
              "      <td>0.2</td>\n",
              "      <td>setosa</td>\n",
              "    </tr>\n",
              "    <tr>\n",
              "      <th>3</th>\n",
              "      <td>4.6</td>\n",
              "      <td>3.1</td>\n",
              "      <td>1.5</td>\n",
              "      <td>0.2</td>\n",
              "      <td>setosa</td>\n",
              "    </tr>\n",
              "    <tr>\n",
              "      <th>4</th>\n",
              "      <td>5.0</td>\n",
              "      <td>3.6</td>\n",
              "      <td>1.4</td>\n",
              "      <td>0.2</td>\n",
              "      <td>setosa</td>\n",
              "    </tr>\n",
              "  </tbody>\n",
              "</table>\n",
              "</div>"
            ],
            "text/plain": [
              "   sepal_length  sepal_width  petal_length  petal_width species\n",
              "0           5.1          3.5           1.4          0.2  setosa\n",
              "1           4.9          3.0           1.4          0.2  setosa\n",
              "2           4.7          3.2           1.3          0.2  setosa\n",
              "3           4.6          3.1           1.5          0.2  setosa\n",
              "4           5.0          3.6           1.4          0.2  setosa"
            ]
          },
          "metadata": {
            "tags": []
          },
          "execution_count": 6
        }
      ]
    },
    {
      "cell_type": "code",
      "metadata": {
        "id": "5zVk7TwX_r87",
        "colab_type": "code",
        "outputId": "2fe7ab7b-9ea6-4fae-b522-58ffc6accb9b",
        "colab": {
          "base_uri": "https://localhost:8080/",
          "height": 34
        }
      },
      "source": [
        "df.species.unique()"
      ],
      "execution_count": 7,
      "outputs": [
        {
          "output_type": "execute_result",
          "data": {
            "text/plain": [
              "array(['setosa', 'versicolor', 'virginica'], dtype=object)"
            ]
          },
          "metadata": {
            "tags": []
          },
          "execution_count": 7
        }
      ]
    },
    {
      "cell_type": "code",
      "metadata": {
        "id": "yZm1_Ibm_7nN",
        "colab_type": "code",
        "outputId": "fb38e1c6-c897-433e-e125-fdae241e9eb3",
        "colab": {
          "base_uri": "https://localhost:8080/",
          "height": 34
        }
      },
      "source": [
        "l = df.species.unique()\n",
        "l\n"
      ],
      "execution_count": 8,
      "outputs": [
        {
          "output_type": "execute_result",
          "data": {
            "text/plain": [
              "array(['setosa', 'versicolor', 'virginica'], dtype=object)"
            ]
          },
          "metadata": {
            "tags": []
          },
          "execution_count": 8
        }
      ]
    },
    {
      "cell_type": "code",
      "metadata": {
        "id": "9jQThtNlA9bs",
        "colab_type": "code",
        "colab": {}
      },
      "source": [
        "ll = []\n",
        "for i in l:\n",
        "  ll.append(i)"
      ],
      "execution_count": 0,
      "outputs": []
    },
    {
      "cell_type": "code",
      "metadata": {
        "id": "A0IcpwcoAHIT",
        "colab_type": "code",
        "outputId": "f9f746ef-3f9e-4154-88fa-0ff40623ae62",
        "colab": {
          "base_uri": "https://localhost:8080/",
          "height": 34
        }
      },
      "source": [
        "df.species.isna().sum()"
      ],
      "execution_count": 10,
      "outputs": [
        {
          "output_type": "execute_result",
          "data": {
            "text/plain": [
              "0"
            ]
          },
          "metadata": {
            "tags": []
          },
          "execution_count": 10
        }
      ]
    },
    {
      "cell_type": "code",
      "metadata": {
        "id": "gJtrKcxP_wap",
        "colab_type": "code",
        "colab": {}
      },
      "source": [
        "def spc(li):\n",
        "  return(ll.index(li) + 1)"
      ],
      "execution_count": 0,
      "outputs": []
    },
    {
      "cell_type": "code",
      "metadata": {
        "id": "ohBe3XvHAejT",
        "colab_type": "code",
        "outputId": "d683c37a-6d31-4f29-d15e-a38aba8fbd0e",
        "colab": {
          "base_uri": "https://localhost:8080/",
          "height": 195
        }
      },
      "source": [
        "df['species'] = df.species.apply(spc)\n",
        "df.head()"
      ],
      "execution_count": 12,
      "outputs": [
        {
          "output_type": "execute_result",
          "data": {
            "text/html": [
              "<div>\n",
              "<style scoped>\n",
              "    .dataframe tbody tr th:only-of-type {\n",
              "        vertical-align: middle;\n",
              "    }\n",
              "\n",
              "    .dataframe tbody tr th {\n",
              "        vertical-align: top;\n",
              "    }\n",
              "\n",
              "    .dataframe thead th {\n",
              "        text-align: right;\n",
              "    }\n",
              "</style>\n",
              "<table border=\"1\" class=\"dataframe\">\n",
              "  <thead>\n",
              "    <tr style=\"text-align: right;\">\n",
              "      <th></th>\n",
              "      <th>sepal_length</th>\n",
              "      <th>sepal_width</th>\n",
              "      <th>petal_length</th>\n",
              "      <th>petal_width</th>\n",
              "      <th>species</th>\n",
              "    </tr>\n",
              "  </thead>\n",
              "  <tbody>\n",
              "    <tr>\n",
              "      <th>0</th>\n",
              "      <td>5.1</td>\n",
              "      <td>3.5</td>\n",
              "      <td>1.4</td>\n",
              "      <td>0.2</td>\n",
              "      <td>1</td>\n",
              "    </tr>\n",
              "    <tr>\n",
              "      <th>1</th>\n",
              "      <td>4.9</td>\n",
              "      <td>3.0</td>\n",
              "      <td>1.4</td>\n",
              "      <td>0.2</td>\n",
              "      <td>1</td>\n",
              "    </tr>\n",
              "    <tr>\n",
              "      <th>2</th>\n",
              "      <td>4.7</td>\n",
              "      <td>3.2</td>\n",
              "      <td>1.3</td>\n",
              "      <td>0.2</td>\n",
              "      <td>1</td>\n",
              "    </tr>\n",
              "    <tr>\n",
              "      <th>3</th>\n",
              "      <td>4.6</td>\n",
              "      <td>3.1</td>\n",
              "      <td>1.5</td>\n",
              "      <td>0.2</td>\n",
              "      <td>1</td>\n",
              "    </tr>\n",
              "    <tr>\n",
              "      <th>4</th>\n",
              "      <td>5.0</td>\n",
              "      <td>3.6</td>\n",
              "      <td>1.4</td>\n",
              "      <td>0.2</td>\n",
              "      <td>1</td>\n",
              "    </tr>\n",
              "  </tbody>\n",
              "</table>\n",
              "</div>"
            ],
            "text/plain": [
              "   sepal_length  sepal_width  petal_length  petal_width  species\n",
              "0           5.1          3.5           1.4          0.2        1\n",
              "1           4.9          3.0           1.4          0.2        1\n",
              "2           4.7          3.2           1.3          0.2        1\n",
              "3           4.6          3.1           1.5          0.2        1\n",
              "4           5.0          3.6           1.4          0.2        1"
            ]
          },
          "metadata": {
            "tags": []
          },
          "execution_count": 12
        }
      ]
    },
    {
      "cell_type": "code",
      "metadata": {
        "id": "9Upxq7vVAwCa",
        "colab_type": "code",
        "outputId": "a3739166-8ccb-4dd6-84f3-07159c3998b1",
        "colab": {
          "base_uri": "https://localhost:8080/",
          "height": 118
        }
      },
      "source": [
        "df.dtypes  "
      ],
      "execution_count": 13,
      "outputs": [
        {
          "output_type": "execute_result",
          "data": {
            "text/plain": [
              "sepal_length    float64\n",
              "sepal_width     float64\n",
              "petal_length    float64\n",
              "petal_width     float64\n",
              "species           int64\n",
              "dtype: object"
            ]
          },
          "metadata": {
            "tags": []
          },
          "execution_count": 13
        }
      ]
    },
    {
      "cell_type": "code",
      "metadata": {
        "id": "4OsBD3FxH2g4",
        "colab_type": "code",
        "colab": {
          "base_uri": "https://localhost:8080/",
          "height": 195
        },
        "outputId": "d92b5579-1eb9-47cb-e5a3-9b7032d27f3d"
      },
      "source": [
        "df_x = df[df.columns[0:4]]\n",
        "df_x.head()"
      ],
      "execution_count": 29,
      "outputs": [
        {
          "output_type": "execute_result",
          "data": {
            "text/html": [
              "<div>\n",
              "<style scoped>\n",
              "    .dataframe tbody tr th:only-of-type {\n",
              "        vertical-align: middle;\n",
              "    }\n",
              "\n",
              "    .dataframe tbody tr th {\n",
              "        vertical-align: top;\n",
              "    }\n",
              "\n",
              "    .dataframe thead th {\n",
              "        text-align: right;\n",
              "    }\n",
              "</style>\n",
              "<table border=\"1\" class=\"dataframe\">\n",
              "  <thead>\n",
              "    <tr style=\"text-align: right;\">\n",
              "      <th></th>\n",
              "      <th>sepal_length</th>\n",
              "      <th>sepal_width</th>\n",
              "      <th>petal_length</th>\n",
              "      <th>petal_width</th>\n",
              "    </tr>\n",
              "  </thead>\n",
              "  <tbody>\n",
              "    <tr>\n",
              "      <th>0</th>\n",
              "      <td>5.1</td>\n",
              "      <td>3.5</td>\n",
              "      <td>1.4</td>\n",
              "      <td>0.2</td>\n",
              "    </tr>\n",
              "    <tr>\n",
              "      <th>1</th>\n",
              "      <td>4.9</td>\n",
              "      <td>3.0</td>\n",
              "      <td>1.4</td>\n",
              "      <td>0.2</td>\n",
              "    </tr>\n",
              "    <tr>\n",
              "      <th>2</th>\n",
              "      <td>4.7</td>\n",
              "      <td>3.2</td>\n",
              "      <td>1.3</td>\n",
              "      <td>0.2</td>\n",
              "    </tr>\n",
              "    <tr>\n",
              "      <th>3</th>\n",
              "      <td>4.6</td>\n",
              "      <td>3.1</td>\n",
              "      <td>1.5</td>\n",
              "      <td>0.2</td>\n",
              "    </tr>\n",
              "    <tr>\n",
              "      <th>4</th>\n",
              "      <td>5.0</td>\n",
              "      <td>3.6</td>\n",
              "      <td>1.4</td>\n",
              "      <td>0.2</td>\n",
              "    </tr>\n",
              "  </tbody>\n",
              "</table>\n",
              "</div>"
            ],
            "text/plain": [
              "   sepal_length  sepal_width  petal_length  petal_width\n",
              "0           5.1          3.5           1.4          0.2\n",
              "1           4.9          3.0           1.4          0.2\n",
              "2           4.7          3.2           1.3          0.2\n",
              "3           4.6          3.1           1.5          0.2\n",
              "4           5.0          3.6           1.4          0.2"
            ]
          },
          "metadata": {
            "tags": []
          },
          "execution_count": 29
        }
      ]
    },
    {
      "cell_type": "code",
      "metadata": {
        "id": "6egCXHbKJs7O",
        "colab_type": "code",
        "colab": {
          "base_uri": "https://localhost:8080/",
          "height": 286
        },
        "outputId": "11d7bc24-88a9-464d-b63b-cdf019a0b60b"
      },
      "source": [
        "plt.scatter(df_x.sepal_length,df_x.sepal_width)"
      ],
      "execution_count": 30,
      "outputs": [
        {
          "output_type": "execute_result",
          "data": {
            "text/plain": [
              "<matplotlib.collections.PathCollection at 0x7fabc0ee0278>"
            ]
          },
          "metadata": {
            "tags": []
          },
          "execution_count": 30
        },
        {
          "output_type": "display_data",
          "data": {
            "image/png": "[encoded data removed]",
            "text/plain": [
              "<Figure size 432x288 with 1 Axes>"
            ]
          },
          "metadata": {
            "tags": []
          }
        }
      ]
    },
    {
      "cell_type": "code",
      "metadata": {
        "id": "InhG4OCCIwcz",
        "colab_type": "code",
        "colab": {
          "base_uri": "https://localhost:8080/",
          "height": 195
        },
        "outputId": "4f0a03ca-8a3a-42f1-cbf9-4a550c333fd6"
      },
      "source": [
        "df_y = df[['species']]\n",
        "df_y.head()"
      ],
      "execution_count": 31,
      "outputs": [
        {
          "output_type": "execute_result",
          "data": {
            "text/html": [
              "<div>\n",
              "<style scoped>\n",
              "    .dataframe tbody tr th:only-of-type {\n",
              "        vertical-align: middle;\n",
              "    }\n",
              "\n",
              "    .dataframe tbody tr th {\n",
              "        vertical-align: top;\n",
              "    }\n",
              "\n",
              "    .dataframe thead th {\n",
              "        text-align: right;\n",
              "    }\n",
              "</style>\n",
              "<table border=\"1\" class=\"dataframe\">\n",
              "  <thead>\n",
              "    <tr style=\"text-align: right;\">\n",
              "      <th></th>\n",
              "      <th>species</th>\n",
              "    </tr>\n",
              "  </thead>\n",
              "  <tbody>\n",
              "    <tr>\n",
              "      <th>0</th>\n",
              "      <td>1</td>\n",
              "    </tr>\n",
              "    <tr>\n",
              "      <th>1</th>\n",
              "      <td>1</td>\n",
              "    </tr>\n",
              "    <tr>\n",
              "      <th>2</th>\n",
              "      <td>1</td>\n",
              "    </tr>\n",
              "    <tr>\n",
              "      <th>3</th>\n",
              "      <td>1</td>\n",
              "    </tr>\n",
              "    <tr>\n",
              "      <th>4</th>\n",
              "      <td>1</td>\n",
              "    </tr>\n",
              "  </tbody>\n",
              "</table>\n",
              "</div>"
            ],
            "text/plain": [
              "   species\n",
              "0        1\n",
              "1        1\n",
              "2        1\n",
              "3        1\n",
              "4        1"
            ]
          },
          "metadata": {
            "tags": []
          },
          "execution_count": 31
        }
      ]
    },
    {
      "cell_type": "code",
      "metadata": {
        "id": "KBHAk4DVOpN2",
        "colab_type": "code",
        "colab": {
          "base_uri": "https://localhost:8080/",
          "height": 1000
        },
        "outputId": "6a3f13b8-1f29-450a-c70f-2e4a336963dc"
      },
      "source": [
        "# define a matrix (we'll pretend that we've already separated our X and Y matrices)\n",
        "X = df_x\n",
        "print(\"Data: \", X)\n",
        "# calculate the mean of each column\n",
        "means = mean(X.T, axis=1)\n",
        "print(\"\\n Means: \\n\", means)\n",
        "# center columns by subtracting column means\n",
        "centered_data = X - means\n",
        "print(\"\\n Centered Data: \\n\", centered_data)\n",
        "# calculate the standard deviation of each column\n",
        "std_devs = std(X.T, axis=1)\n",
        "# complete the standardization by dividing by std_dev\n",
        "Z = centered_data / std_devs\n",
        "print(\"\\n Standardized Data: \\n\", Z)\n",
        "# calculate covariance matrix of centered matrix\n",
        "# We're not going to find the covaraicne matrix by the (Z^T)(Z) method, I trust this function more\n",
        "covariance_matrix = cov(Z.T)\n",
        "print(\"\\n Covariance Matrix: \\n\", covariance_matrix)\n",
        "# eigendecomposition of covariance matrix\n",
        "values, vectors = eig(covariance_matrix)\n",
        "print(\"\\n Eigenvectors: \\n\", vectors)\n",
        "print(\"\\n Eigenvalues: \\n\", values)\n",
        "# project data\n",
        "P = vectors.T.dot(Z.T)\n",
        "print(\"\\n Projected Data: \\n\", P.T)"
      ],
      "execution_count": 54,
      "outputs": [
        {
          "output_type": "stream",
          "text": [
            "Data:       sepal_length  sepal_width  petal_length  petal_width\n",
            "0             5.1          3.5           1.4          0.2\n",
            "1             4.9          3.0           1.4          0.2\n",
            "2             4.7          3.2           1.3          0.2\n",
            "3             4.6          3.1           1.5          0.2\n",
            "4             5.0          3.6           1.4          0.2\n",
            "5             5.4          3.9           1.7          0.4\n",
            "6             4.6          3.4           1.4          0.3\n",
            "7             5.0          3.4           1.5          0.2\n",
            "8             4.4          2.9           1.4          0.2\n",
            "9             4.9          3.1           1.5          0.1\n",
            "10            5.4          3.7           1.5          0.2\n",
            "11            4.8          3.4           1.6          0.2\n",
            "12            4.8          3.0           1.4          0.1\n",
            "13            4.3          3.0           1.1          0.1\n",
            "14            5.8          4.0           1.2          0.2\n",
            "15            5.7          4.4           1.5          0.4\n",
            "16            5.4          3.9           1.3          0.4\n",
            "17            5.1          3.5           1.4          0.3\n",
            "18            5.7          3.8           1.7          0.3\n",
            "19            5.1          3.8           1.5          0.3\n",
            "20            5.4          3.4           1.7          0.2\n",
            "21            5.1          3.7           1.5          0.4\n",
            "22            4.6          3.6           1.0          0.2\n",
            "23            5.1          3.3           1.7          0.5\n",
            "24            4.8          3.4           1.9          0.2\n",
            "25            5.0          3.0           1.6          0.2\n",
            "26            5.0          3.4           1.6          0.4\n",
            "27            5.2          3.5           1.5          0.2\n",
            "28            5.2          3.4           1.4          0.2\n",
            "29            4.7          3.2           1.6          0.2\n",
            "..            ...          ...           ...          ...\n",
            "120           6.9          3.2           5.7          2.3\n",
            "121           5.6          2.8           4.9          2.0\n",
            "122           7.7          2.8           6.7          2.0\n",
            "123           6.3          2.7           4.9          1.8\n",
            "124           6.7          3.3           5.7          2.1\n",
            "125           7.2          3.2           6.0          1.8\n",
            "126           6.2          2.8           4.8          1.8\n",
            "127           6.1          3.0           4.9          1.8\n",
            "128           6.4          2.8           5.6          2.1\n",
            "129           7.2          3.0           5.8          1.6\n",
            "130           7.4          2.8           6.1          1.9\n",
            "131           7.9          3.8           6.4          2.0\n",
            "132           6.4          2.8           5.6          2.2\n",
            "133           6.3          2.8           5.1          1.5\n",
            "134           6.1          2.6           5.6          1.4\n",
            "135           7.7          3.0           6.1          2.3\n",
            "136           6.3          3.4           5.6          2.4\n",
            "137           6.4          3.1           5.5          1.8\n",
            "138           6.0          3.0           4.8          1.8\n",
            "139           6.9          3.1           5.4          2.1\n",
            "140           6.7          3.1           5.6          2.4\n",
            "141           6.9          3.1           5.1          2.3\n",
            "142           5.8          2.7           5.1          1.9\n",
            "143           6.8          3.2           5.9          2.3\n",
            "144           6.7          3.3           5.7          2.5\n",
            "145           6.7          3.0           5.2          2.3\n",
            "146           6.3          2.5           5.0          1.9\n",
            "147           6.5          3.0           5.2          2.0\n",
            "148           6.2          3.4           5.4          2.3\n",
            "149           5.9          3.0           5.1          1.8\n",
            "\n",
            "[150 rows x 4 columns]\n",
            "\n",
            " Means: \n",
            " sepal_length    5.843333\n",
            "sepal_width     3.054000\n",
            "petal_length    3.758667\n",
            "petal_width     1.198667\n",
            "dtype: float64\n",
            "\n",
            " Centered Data: \n",
            "      sepal_length  sepal_width  petal_length  petal_width\n",
            "0       -0.743333        0.446     -2.358667    -0.998667\n",
            "1       -0.943333       -0.054     -2.358667    -0.998667\n",
            "2       -1.143333        0.146     -2.458667    -0.998667\n",
            "3       -1.243333        0.046     -2.258667    -0.998667\n",
            "4       -0.843333        0.546     -2.358667    -0.998667\n",
            "5       -0.443333        0.846     -2.058667    -0.798667\n",
            "6       -1.243333        0.346     -2.358667    -0.898667\n",
            "7       -0.843333        0.346     -2.258667    -0.998667\n",
            "8       -1.443333       -0.154     -2.358667    -0.998667\n",
            "9       -0.943333        0.046     -2.258667    -1.098667\n",
            "10      -0.443333        0.646     -2.258667    -0.998667\n",
            "11      -1.043333        0.346     -2.158667    -0.998667\n",
            "12      -1.043333       -0.054     -2.358667    -1.098667\n",
            "13      -1.543333       -0.054     -2.658667    -1.098667\n",
            "14      -0.043333        0.946     -2.558667    -0.998667\n",
            "15      -0.143333        1.346     -2.258667    -0.798667\n",
            "16      -0.443333        0.846     -2.458667    -0.798667\n",
            "17      -0.743333        0.446     -2.358667    -0.898667\n",
            "18      -0.143333        0.746     -2.058667    -0.898667\n",
            "19      -0.743333        0.746     -2.258667    -0.898667\n",
            "20      -0.443333        0.346     -2.058667    -0.998667\n",
            "21      -0.743333        0.646     -2.258667    -0.798667\n",
            "22      -1.243333        0.546     -2.758667    -0.998667\n",
            "23      -0.743333        0.246     -2.058667    -0.698667\n",
            "24      -1.043333        0.346     -1.858667    -0.998667\n",
            "25      -0.843333       -0.054     -2.158667    -0.998667\n",
            "26      -0.843333        0.346     -2.158667    -0.798667\n",
            "27      -0.643333        0.446     -2.258667    -0.998667\n",
            "28      -0.643333        0.346     -2.358667    -0.998667\n",
            "29      -1.143333        0.146     -2.158667    -0.998667\n",
            "..            ...          ...           ...          ...\n",
            "120      1.056667        0.146      1.941333     1.101333\n",
            "121     -0.243333       -0.254      1.141333     0.801333\n",
            "122      1.856667       -0.254      2.941333     0.801333\n",
            "123      0.456667       -0.354      1.141333     0.601333\n",
            "124      0.856667        0.246      1.941333     0.901333\n",
            "125      1.356667        0.146      2.241333     0.601333\n",
            "126      0.356667       -0.254      1.041333     0.601333\n",
            "127      0.256667       -0.054      1.141333     0.601333\n",
            "128      0.556667       -0.254      1.841333     0.901333\n",
            "129      1.356667       -0.054      2.041333     0.401333\n",
            "130      1.556667       -0.254      2.341333     0.701333\n",
            "131      2.056667        0.746      2.641333     0.801333\n",
            "132      0.556667       -0.254      1.841333     1.001333\n",
            "133      0.456667       -0.254      1.341333     0.301333\n",
            "134      0.256667       -0.454      1.841333     0.201333\n",
            "135      1.856667       -0.054      2.341333     1.101333\n",
            "136      0.456667        0.346      1.841333     1.201333\n",
            "137      0.556667        0.046      1.741333     0.601333\n",
            "138      0.156667       -0.054      1.041333     0.601333\n",
            "139      1.056667        0.046      1.641333     0.901333\n",
            "140      0.856667        0.046      1.841333     1.201333\n",
            "141      1.056667        0.046      1.341333     1.101333\n",
            "142     -0.043333       -0.354      1.341333     0.701333\n",
            "143      0.956667        0.146      2.141333     1.101333\n",
            "144      0.856667        0.246      1.941333     1.301333\n",
            "145      0.856667       -0.054      1.441333     1.101333\n",
            "146      0.456667       -0.554      1.241333     0.701333\n",
            "147      0.656667       -0.054      1.441333     0.801333\n",
            "148      0.356667        0.346      1.641333     1.101333\n",
            "149      0.056667       -0.054      1.341333     0.601333\n",
            "\n",
            "[150 rows x 4 columns]\n",
            "\n",
            " Standardized Data: \n",
            "      sepal_length  sepal_width  petal_length  petal_width\n",
            "0       -0.900681     1.032057     -1.341272    -1.312977\n",
            "1       -1.143017    -0.124958     -1.341272    -1.312977\n",
            "2       -1.385353     0.337848     -1.398138    -1.312977\n",
            "3       -1.506521     0.106445     -1.284407    -1.312977\n",
            "4       -1.021849     1.263460     -1.341272    -1.312977\n",
            "5       -0.537178     1.957669     -1.170675    -1.050031\n",
            "6       -1.506521     0.800654     -1.341272    -1.181504\n",
            "7       -1.021849     0.800654     -1.284407    -1.312977\n",
            "8       -1.748856    -0.356361     -1.341272    -1.312977\n",
            "9       -1.143017     0.106445     -1.284407    -1.444450\n",
            "10      -0.537178     1.494863     -1.284407    -1.312977\n",
            "11      -1.264185     0.800654     -1.227541    -1.312977\n",
            "12      -1.264185    -0.124958     -1.341272    -1.444450\n",
            "13      -1.870024    -0.124958     -1.511870    -1.444450\n",
            "14      -0.052506     2.189072     -1.455004    -1.312977\n",
            "15      -0.173674     3.114684     -1.284407    -1.050031\n",
            "16      -0.537178     1.957669     -1.398138    -1.050031\n",
            "17      -0.900681     1.032057     -1.341272    -1.181504\n",
            "18      -0.173674     1.726266     -1.170675    -1.181504\n",
            "19      -0.900681     1.726266     -1.284407    -1.181504\n",
            "20      -0.537178     0.800654     -1.170675    -1.312977\n",
            "21      -0.900681     1.494863     -1.284407    -1.050031\n",
            "22      -1.506521     1.263460     -1.568735    -1.312977\n",
            "23      -0.900681     0.569251     -1.170675    -0.918558\n",
            "24      -1.264185     0.800654     -1.056944    -1.312977\n",
            "25      -1.021849    -0.124958     -1.227541    -1.312977\n",
            "26      -1.021849     0.800654     -1.227541    -1.050031\n",
            "27      -0.779513     1.032057     -1.284407    -1.312977\n",
            "28      -0.779513     0.800654     -1.341272    -1.312977\n",
            "29      -1.385353     0.337848     -1.227541    -1.312977\n",
            "..            ...          ...           ...          ...\n",
            "120      1.280340     0.337848      1.103953     1.447956\n",
            "121     -0.294842    -0.587764      0.649027     1.053537\n",
            "122      2.249683    -0.587764      1.672610     1.053537\n",
            "123      0.553333    -0.819166      0.649027     0.790591\n",
            "124      1.038005     0.569251      1.103953     1.185010\n",
            "125      1.643844     0.337848      1.274550     0.790591\n",
            "126      0.432165    -0.587764      0.592162     0.790591\n",
            "127      0.310998    -0.124958      0.649027     0.790591\n",
            "128      0.674501    -0.587764      1.047087     1.185010\n",
            "129      1.643844    -0.124958      1.160819     0.527645\n",
            "130      1.886180    -0.587764      1.331416     0.922064\n",
            "131      2.492019     1.726266      1.502013     1.053537\n",
            "132      0.674501    -0.587764      1.047087     1.316483\n",
            "133      0.553333    -0.587764      0.762759     0.396172\n",
            "134      0.310998    -1.050569      1.047087     0.264699\n",
            "135      2.249683    -0.124958      1.331416     1.447956\n",
            "136      0.553333     0.800654      1.047087     1.579429\n",
            "137      0.674501     0.106445      0.990221     0.790591\n",
            "138      0.189830    -0.124958      0.592162     0.790591\n",
            "139      1.280340     0.106445      0.933356     1.185010\n",
            "140      1.038005     0.106445      1.047087     1.579429\n",
            "141      1.280340     0.106445      0.762759     1.447956\n",
            "142     -0.052506    -0.819166      0.762759     0.922064\n",
            "143      1.159173     0.337848      1.217684     1.447956\n",
            "144      1.038005     0.569251      1.103953     1.710902\n",
            "145      1.038005    -0.124958      0.819624     1.447956\n",
            "146      0.553333    -1.281972      0.705893     0.922064\n",
            "147      0.795669    -0.124958      0.819624     1.053537\n",
            "148      0.432165     0.800654      0.933356     1.447956\n",
            "149      0.068662    -0.124958      0.762759     0.790591\n",
            "\n",
            "[150 rows x 4 columns]\n",
            "\n",
            " Covariance Matrix: \n",
            " [[ 1.00671141 -0.11010327  0.87760486  0.82344326]\n",
            " [-0.11010327  1.00671141 -0.42333835 -0.358937  ]\n",
            " [ 0.87760486 -0.42333835  1.00671141  0.96921855]\n",
            " [ 0.82344326 -0.358937    0.96921855  1.00671141]]\n",
            "\n",
            " Eigenvectors: \n",
            " [[ 0.52237162 -0.37231836 -0.72101681  0.26199559]\n",
            " [-0.26335492 -0.92555649  0.24203288 -0.12413481]\n",
            " [ 0.58125401 -0.02109478  0.14089226 -0.80115427]\n",
            " [ 0.56561105 -0.06541577  0.6338014   0.52354627]]\n",
            "\n",
            " Eigenvalues: \n",
            " [2.93035378 0.92740362 0.14834223 0.02074601]\n",
            "\n",
            " Projected Data: \n",
            " [[-2.26454173e+00 -5.05703903e-01 -1.21943348e-01  2.30733235e-02]\n",
            " [-2.08642550e+00  6.55404729e-01 -2.27250832e-01  1.03208244e-01]\n",
            " [-2.36795045e+00  3.18477311e-01  5.14796236e-02  2.78252250e-02]\n",
            " [-2.30419716e+00  5.75367713e-01  9.88604444e-02 -6.63114622e-02]\n",
            " [-2.38877749e+00 -6.74767397e-01  2.14278490e-02 -3.73972870e-02]\n",
            " [-2.07053681e+00 -1.51854856e+00  3.06842583e-02  4.39877494e-03]\n",
            " [-2.44571134e+00 -7.45626750e-02  3.42197636e-01 -3.80965668e-02]\n",
            " [-2.23384186e+00 -2.47613932e-01 -8.25744645e-02 -2.55051623e-02]\n",
            " [-2.34195768e+00  1.09514636e+00  1.53562399e-01 -2.67938291e-02]\n",
            " [-2.18867576e+00  4.48629048e-01 -2.46559522e-01 -3.99073035e-02]\n",
            " [-2.16348656e+00 -1.07059558e+00 -2.64009373e-01  1.53011377e-02]\n",
            " [-2.32737775e+00 -1.58587455e-01  1.00165616e-01 -1.34554258e-01]\n",
            " [-2.22408272e+00  7.09118158e-01 -2.23214514e-01  2.63061382e-03]\n",
            " [-2.63971626e+00  9.38281982e-01  1.89570030e-01 -1.94220183e-02]\n",
            " [-2.19229151e+00 -1.88997851e+00 -4.69480095e-01  1.92782042e-01]\n",
            " [-2.25146521e+00 -2.72237108e+00  3.26037967e-02  4.71257043e-02]\n",
            " [-2.20275048e+00 -1.51375028e+00 -1.36349158e-03  1.86631581e-01]\n",
            " [-2.19017916e+00 -5.14304308e-01 -3.86155949e-02  9.19055067e-02]\n",
            " [-1.89407429e+00 -1.43111071e+00 -3.70742834e-01  5.95280968e-02]\n",
            " [-2.33994907e+00 -1.15803343e+00  1.37417719e-01 -3.98281842e-02]\n",
            " [-1.91455639e+00 -4.30465163e-01 -4.16006875e-01  1.03602240e-02]\n",
            " [-2.20464540e+00 -9.52457317e-01  1.64738346e-01  5.77291622e-02]\n",
            " [-2.77416979e+00 -4.89517027e-01  3.38836384e-01  1.78537297e-02]\n",
            " [-1.82041156e+00 -1.06750793e-01  4.00614724e-02  1.50345595e-01]\n",
            " [-2.22821750e+00 -1.62186163e-01  1.24201428e-01 -2.71228863e-01]\n",
            " [-1.95702401e+00  6.07892567e-01 -2.98591029e-01  4.38372887e-02]\n",
            " [-2.05206331e+00 -2.66014312e-01  9.20929788e-02  6.66010028e-02]\n",
            " [-2.16819365e+00 -5.52016495e-01 -2.01295482e-01  9.26056927e-03]\n",
            " [-2.14030596e+00 -3.36640409e-01 -2.65314545e-01  8.35439339e-02]\n",
            " [-2.26879019e+00  3.14878603e-01  7.55154360e-02 -1.08849380e-01]\n",
            " [-2.14455443e+00  4.83942097e-01 -6.78557607e-02 -4.83787691e-02]\n",
            " [-1.83193810e+00 -4.45266836e-01 -2.65375244e-01  2.39140994e-01]\n",
            " [-2.60820287e+00 -1.82847519e+00  5.14195182e-02 -2.31922593e-01]\n",
            " [-2.43795086e+00 -2.18539162e+00 -7.93497549e-02 -5.10210291e-02]\n",
            " [-2.18867576e+00  4.48629048e-01 -2.46559522e-01 -3.99073035e-02]\n",
            " [-2.21111990e+00  1.84337811e-01 -2.18624528e-01  1.68619769e-01]\n",
            " [-2.04441652e+00 -6.84956426e-01 -4.79411570e-01  1.95613314e-01]\n",
            " [-2.18867576e+00  4.48629048e-01 -2.46559522e-01 -3.99073035e-02]\n",
            " [-2.43595220e+00  8.82169415e-01  2.01557587e-01 -9.96079072e-03]\n",
            " [-2.17054720e+00 -2.92726955e-01 -1.69938536e-01  6.24028506e-03]\n",
            " [-2.28652724e+00 -4.67991716e-01  4.07365390e-02  1.05718261e-01]\n",
            " [-1.87170722e+00  2.32769161e+00 -1.94528610e-01  2.91692982e-01]\n",
            " [-2.55783442e+00  4.53816380e-01  3.13571838e-01 -6.74111170e-02]\n",
            " [-1.96427929e+00 -4.97391640e-01  3.14755610e-01  1.75540206e-01]\n",
            " [-2.13337283e+00 -1.17143211e+00  2.52793222e-01 -1.53228807e-01]\n",
            " [-2.07535759e+00  6.91917347e-01 -5.65590082e-02  1.40294980e-01]\n",
            " [-2.38125822e+00 -1.15063259e+00  6.21019035e-02 -1.54218569e-01]\n",
            " [-2.39819169e+00  3.62390765e-01  1.46855632e-01 -4.94784238e-02]\n",
            " [-2.22678121e+00 -1.02548255e+00 -1.76645302e-01 -1.64443096e-02]\n",
            " [-2.20595417e+00 -3.22378453e-02 -1.46593527e-01  4.87782024e-02]\n",
            " [ 1.10399365e+00 -8.63112446e-01 -6.85555108e-01  3.49778613e-02]\n",
            " [ 7.32481440e-01 -5.98635573e-01 -9.40668020e-02  4.45376367e-03]\n",
            " [ 1.24210951e+00 -6.14822450e-01 -5.54846534e-01  9.67335738e-03]\n",
            " [ 3.97307283e-01  1.75816895e+00 -1.85694824e-02  6.73978468e-02]\n",
            " [ 1.07259395e+00  2.11757903e-01 -3.97447438e-01  1.05541662e-01]\n",
            " [ 3.84458146e-01  5.91062469e-01  1.26797690e-01 -2.40528082e-01]\n",
            " [ 7.48715076e-01 -7.78698611e-01  1.48656023e-01 -7.83010665e-02]\n",
            " [-4.97863388e-01  1.84886877e+00  2.55555250e-01 -3.93891395e-02]\n",
            " [ 9.26222368e-01 -3.03308268e-02 -5.95459889e-01 -2.91024204e-02]\n",
            " [ 4.96802558e-03  1.02940111e+00  5.42867049e-01 -2.83487629e-02]\n",
            " [-1.24697461e-01  2.65806268e+00 -3.98134482e-02  1.61405573e-02]\n",
            " [ 4.38730118e-01  5.88812850e-02  2.06703491e-01  3.98514578e-02]\n",
            " [ 5.51633981e-01  1.77258156e+00 -7.61380223e-01  4.83536968e-02]\n",
            " [ 7.17165066e-01  1.85434315e-01 -6.72998424e-02 -1.64555675e-01]\n",
            " [-3.72583830e-02  4.32795099e-01  1.98061449e-01  1.09025121e-01]\n",
            " [ 8.75890536e-01 -5.09998151e-01 -5.03505832e-01  1.05141287e-01]\n",
            " [ 3.48006402e-01  1.90621647e-01  4.92831518e-01 -1.92059489e-01]\n",
            " [ 1.53392545e-01  7.90725456e-01 -2.98604516e-01 -2.04321215e-01]\n",
            " [ 1.21530321e+00  1.63335564e+00 -4.79409914e-01  2.28214500e-01]\n",
            " [ 1.56941176e-01  1.30310327e+00 -1.68586746e-01 -5.04131971e-02]\n",
            " [ 7.38256104e-01 -4.02470382e-01  6.16772626e-01 -8.44515277e-02]\n",
            " [ 4.72369682e-01  4.16608222e-01 -2.62718283e-01  1.14244715e-01]\n",
            " [ 1.22798821e+00  9.40914793e-01 -3.66704859e-01 -8.44834785e-03]\n",
            " [ 6.29381045e-01  4.16811643e-01 -2.89962474e-01 -2.73494879e-01]\n",
            " [ 7.00472799e-01  6.34939277e-02 -4.44767559e-01  4.40812895e-02]\n",
            " [ 8.73536987e-01 -2.50708611e-01 -4.72148886e-01  1.02121003e-01]\n",
            " [ 1.25422219e+00  8.26200998e-02 -7.26843529e-01  4.08294177e-02]\n",
            " [ 1.35823985e+00 -3.28820266e-01 -2.61458074e-01  6.70137909e-02]\n",
            " [ 6.62126138e-01  2.24346071e-01  8.73681069e-02 -3.63525363e-02]\n",
            " [-4.72815133e-02  1.05721241e+00 -3.15319195e-01  6.60077099e-02]\n",
            " [ 1.21534209e-01  1.56359238e+00 -1.45241738e-01 -7.87527979e-03]\n",
            " [ 1.41182261e-02  1.57339235e+00 -2.36581428e-01 -3.11492615e-02]\n",
            " [ 2.36010837e-01  7.75923784e-01 -1.47972885e-01  2.44595546e-02]\n",
            " [ 1.05669143e+00  6.36901284e-01  1.06753234e-01 -1.83419236e-01]\n",
            " [ 2.21417088e-01  2.80847693e-01  6.67559660e-01 -2.55550383e-01]\n",
            " [ 4.31783161e-01 -8.55136920e-01  4.50731487e-01 -1.11146169e-01]\n",
            " [ 1.04941336e+00 -5.22197265e-01 -3.96142266e-01  3.72988658e-02]\n",
            " [ 1.03587821e+00  1.39246648e+00 -6.85434303e-01  1.39128619e-01]\n",
            " [ 6.70675999e-02  2.12620735e-01  2.94128262e-01 -1.47491049e-01]\n",
            " [ 2.75425066e-01  1.32981591e+00  9.34447685e-02  9.94752060e-03]\n",
            " [ 2.72335066e-01  1.11944152e+00  9.81718909e-02 -2.69842632e-01]\n",
            " [ 6.23170540e-01 -2.75426333e-02 -1.93046544e-02 -1.47722637e-01]\n",
            " [ 3.30005364e-01  9.88900732e-01 -1.95968073e-01  7.62651620e-03]\n",
            " [-3.73627623e-01  2.01793227e+00  1.12184053e-01  2.10814710e-02]\n",
            " [ 2.82944343e-01  8.53950717e-01  1.34118823e-01 -1.06873761e-01]\n",
            " [ 8.90531103e-02  1.74908548e-01  1.31448375e-01 -2.30135987e-01]\n",
            " [ 2.24356783e-01  3.80484659e-01  1.58769003e-01 -1.32578640e-01]\n",
            " [ 5.73883486e-01  1.53719974e-01 -2.70039416e-01 -1.94096051e-02]\n",
            " [-4.57012873e-01  1.53946451e+00  1.96126173e-01  2.00883380e-01]\n",
            " [ 2.52244473e-01  5.95860746e-01  9.47499397e-02 -5.82952756e-02]\n",
            " [ 1.84767259e+00 -8.71696662e-01  1.00276099e+00 -5.10680368e-02]\n",
            " [ 1.15318981e+00  7.01326114e-01  5.31464635e-01 -4.04135807e-02]\n",
            " [ 2.20634950e+00 -5.54470105e-01 -2.05495910e-01  5.93004996e-02]\n",
            " [ 1.43868540e+00  5.00105223e-02  1.63390464e-01 -2.35759861e-01]\n",
            " [ 1.86789070e+00 -2.91192802e-01  3.94004333e-01 -1.67817996e-02]\n",
            " [ 2.75419671e+00 -7.88432206e-01 -5.86232704e-01 -1.00879674e-01]\n",
            " [ 3.58374475e-01  1.56009458e+00  9.90999895e-01 -1.32987438e-01]\n",
            " [ 2.30300590e+00 -4.09516695e-01 -6.54166687e-01 -2.37212798e-01]\n",
            " [ 2.00173530e+00  7.23865359e-01 -3.94070448e-01 -8.49938224e-02]\n",
            " [ 2.26755460e+00 -1.92144299e+00  3.92517658e-01  1.02907298e-01]\n",
            " [ 1.36590943e+00 -6.93948040e-01  2.83279516e-01  1.07010918e-01]\n",
            " [ 1.59906459e+00  4.28248836e-01  2.33040821e-02  5.89427002e-02]\n",
            " [ 1.88425185e+00 -4.14332758e-01  2.45485540e-02  1.46296964e-01]\n",
            " [ 1.25308651e+00  1.16739134e+00  5.82130271e-01  9.96816830e-02]\n",
            " [ 1.46406152e+00  4.44147569e-01  1.00411052e+00  2.75022173e-01]\n",
            " [ 1.59180930e+00 -6.77035372e-01  6.36650721e-01  1.90645618e-01]\n",
            " [ 1.47128019e+00 -2.53192472e-01  3.66575092e-02 -1.55435928e-01]\n",
            " [ 2.43737848e+00 -2.55675734e+00 -1.34200082e-01 -2.75661550e-01]\n",
            " [ 3.30914118e+00  2.36132010e-03 -7.06933959e-01  4.67561875e-02]\n",
            " [ 1.25398099e+00  1.71758384e+00 -2.64622084e-01 -6.30674020e-02]\n",
            " [ 2.04049626e+00 -9.07398765e-01  2.31878114e-01  1.67140048e-01]\n",
            " [ 9.73915114e-01  5.71174376e-01  8.29503781e-01  2.73189478e-02]\n",
            " [ 2.89806444e+00 -3.97791359e-01 -8.60926842e-01 -1.26074286e-01]\n",
            " [ 1.32919369e+00  4.86760542e-01 -4.70734933e-03  1.40597876e-01]\n",
            " [ 1.70424071e+00 -1.01414842e+00  2.95957877e-01 -6.27403760e-02]\n",
            " [ 1.95772766e+00 -1.00333452e+00 -4.22817052e-01 -2.18459131e-01]\n",
            " [ 1.17190451e+00  3.18896617e-01  1.30651910e-01  1.25685467e-01]\n",
            " [ 1.01978105e+00 -6.55429631e-02  3.38042170e-01 -9.06850833e-03]\n",
            " [ 1.78600886e+00  1.93272800e-01  2.70002526e-01  3.12072991e-02]\n",
            " [ 1.86477791e+00 -5.55381532e-01 -7.17510683e-01 -2.07556768e-01]\n",
            " [ 2.43549739e+00 -2.46654468e-01 -7.30234006e-01 -1.67936017e-02]\n",
            " [ 2.31608241e+00 -2.62618387e+00 -4.99619543e-01 -2.13160418e-01]\n",
            " [ 1.86037143e+00  1.84672394e-01  3.53330279e-01  1.00039482e-01]\n",
            " [ 1.11127173e+00  2.95986102e-01 -1.82659608e-01 -1.85740240e-01]\n",
            " [ 1.19746916e+00  8.17167742e-01 -1.63213782e-01 -4.88404000e-01]\n",
            " [ 2.80094940e+00 -8.44748194e-01 -5.47000957e-01  2.96321147e-01]\n",
            " [ 1.58015525e+00 -1.07247450e+00  9.43392608e-01  3.36074229e-02]\n",
            " [ 1.34704442e+00 -4.22255966e-01  1.80028706e-01 -2.15906539e-01]\n",
            " [ 9.23432978e-01 -1.92303705e-02  4.17394303e-01  4.74424586e-03]\n",
            " [ 1.85355198e+00 -6.72422729e-01 -1.48203294e-02  1.94875449e-01]\n",
            " [ 2.01615720e+00 -6.10397038e-01  4.25914947e-01  2.46764702e-01]\n",
            " [ 1.90311686e+00 -6.86024832e-01  1.27799364e-01  4.69214421e-01]\n",
            " [ 1.15318981e+00  7.01326114e-01  5.31464635e-01 -4.04135807e-02]\n",
            " [ 2.04330844e+00 -8.64684880e-01  3.35266061e-01  4.42781979e-02]\n",
            " [ 2.00169097e+00 -1.04855005e+00  6.29268888e-01  2.12588357e-01]\n",
            " [ 1.87052207e+00 -3.82821838e-01  2.54532319e-01  3.88890487e-01]\n",
            " [ 1.55849189e+00  9.05313601e-01 -2.53819099e-02  2.21322184e-01]\n",
            " [ 1.52084506e+00 -2.66794575e-01  1.79277203e-01  1.18903043e-01]\n",
            " [ 1.37639119e+00 -1.01636193e+00  9.31405052e-01  2.41461953e-02]\n",
            " [ 9.59298576e-01  2.22839447e-02  5.28794187e-01 -1.63675806e-01]]\n"
          ],
          "name": "stdout"
        }
      ]
    },
    {
      "cell_type": "code",
      "metadata": {
        "id": "b2sgQyrPLJL3",
        "colab_type": "code",
        "colab": {
          "base_uri": "https://localhost:8080/",
          "height": 101
        },
        "outputId": "8151bb53-bc58-493d-f9c9-3fc6996c9fcb"
      },
      "source": [
        "from numpy import array\n",
        "from numpy import mean\n",
        "from numpy import std\n",
        "from numpy import cov\n",
        "from numpy.linalg import eig\n",
        "\n",
        "means = mean(df_x.T,axis=1)\n",
        "means"
      ],
      "execution_count": 55,
      "outputs": [
        {
          "output_type": "execute_result",
          "data": {
            "text/plain": [
              "sepal_length    5.843333\n",
              "sepal_width     3.054000\n",
              "petal_length    3.758667\n",
              "petal_width     1.198667\n",
              "dtype: float64"
            ]
          },
          "metadata": {
            "tags": []
          },
          "execution_count": 55
        }
      ]
    },
    {
      "cell_type": "code",
      "metadata": {
        "id": "3kQGqUCrLUSJ",
        "colab_type": "code",
        "colab": {
          "base_uri": "https://localhost:8080/",
          "height": 195
        },
        "outputId": "e329b2a3-0008-4942-a3dc-19c9a4bad9e6"
      },
      "source": [
        "cent_data = df_x - means\n",
        "cent_data.head()"
      ],
      "execution_count": 39,
      "outputs": [
        {
          "output_type": "execute_result",
          "data": {
            "text/html": [
              "<div>\n",
              "<style scoped>\n",
              "    .dataframe tbody tr th:only-of-type {\n",
              "        vertical-align: middle;\n",
              "    }\n",
              "\n",
              "    .dataframe tbody tr th {\n",
              "        vertical-align: top;\n",
              "    }\n",
              "\n",
              "    .dataframe thead th {\n",
              "        text-align: right;\n",
              "    }\n",
              "</style>\n",
              "<table border=\"1\" class=\"dataframe\">\n",
              "  <thead>\n",
              "    <tr style=\"text-align: right;\">\n",
              "      <th></th>\n",
              "      <th>sepal_length</th>\n",
              "      <th>sepal_width</th>\n",
              "      <th>petal_length</th>\n",
              "      <th>petal_width</th>\n",
              "    </tr>\n",
              "  </thead>\n",
              "  <tbody>\n",
              "    <tr>\n",
              "      <th>0</th>\n",
              "      <td>-0.743333</td>\n",
              "      <td>0.446</td>\n",
              "      <td>-2.358667</td>\n",
              "      <td>-0.998667</td>\n",
              "    </tr>\n",
              "    <tr>\n",
              "      <th>1</th>\n",
              "      <td>-0.943333</td>\n",
              "      <td>-0.054</td>\n",
              "      <td>-2.358667</td>\n",
              "      <td>-0.998667</td>\n",
              "    </tr>\n",
              "    <tr>\n",
              "      <th>2</th>\n",
              "      <td>-1.143333</td>\n",
              "      <td>0.146</td>\n",
              "      <td>-2.458667</td>\n",
              "      <td>-0.998667</td>\n",
              "    </tr>\n",
              "    <tr>\n",
              "      <th>3</th>\n",
              "      <td>-1.243333</td>\n",
              "      <td>0.046</td>\n",
              "      <td>-2.258667</td>\n",
              "      <td>-0.998667</td>\n",
              "    </tr>\n",
              "    <tr>\n",
              "      <th>4</th>\n",
              "      <td>-0.843333</td>\n",
              "      <td>0.546</td>\n",
              "      <td>-2.358667</td>\n",
              "      <td>-0.998667</td>\n",
              "    </tr>\n",
              "  </tbody>\n",
              "</table>\n",
              "</div>"
            ],
            "text/plain": [
              "   sepal_length  sepal_width  petal_length  petal_width\n",
              "0     -0.743333        0.446     -2.358667    -0.998667\n",
              "1     -0.943333       -0.054     -2.358667    -0.998667\n",
              "2     -1.143333        0.146     -2.458667    -0.998667\n",
              "3     -1.243333        0.046     -2.258667    -0.998667\n",
              "4     -0.843333        0.546     -2.358667    -0.998667"
            ]
          },
          "metadata": {
            "tags": []
          },
          "execution_count": 39
        }
      ]
    },
    {
      "cell_type": "code",
      "metadata": {
        "id": "FHrrHp1ZLv0G",
        "colab_type": "code",
        "colab": {
          "base_uri": "https://localhost:8080/",
          "height": 101
        },
        "outputId": "aecf6dac-cf84-411a-9aee-5e09fbf75930"
      },
      "source": [
        "std_dv = std(df_x.T,axis=1)\n",
        "std_dv\n"
      ],
      "execution_count": 56,
      "outputs": [
        {
          "output_type": "execute_result",
          "data": {
            "text/plain": [
              "sepal_length    0.825301\n",
              "sepal_width     0.432147\n",
              "petal_length    1.758529\n",
              "petal_width     0.760613\n",
              "dtype: float64"
            ]
          },
          "metadata": {
            "tags": []
          },
          "execution_count": 56
        }
      ]
    },
    {
      "cell_type": "code",
      "metadata": {
        "id": "pdHvBMjFL8AG",
        "colab_type": "code",
        "colab": {
          "base_uri": "https://localhost:8080/",
          "height": 195
        },
        "outputId": "dea6456f-eebb-48a2-85a4-fd4d542ecd8c"
      },
      "source": [
        "z = cent_data / std_dv\n",
        "z.head()"
      ],
      "execution_count": 58,
      "outputs": [
        {
          "output_type": "execute_result",
          "data": {
            "text/html": [
              "<div>\n",
              "<style scoped>\n",
              "    .dataframe tbody tr th:only-of-type {\n",
              "        vertical-align: middle;\n",
              "    }\n",
              "\n",
              "    .dataframe tbody tr th {\n",
              "        vertical-align: top;\n",
              "    }\n",
              "\n",
              "    .dataframe thead th {\n",
              "        text-align: right;\n",
              "    }\n",
              "</style>\n",
              "<table border=\"1\" class=\"dataframe\">\n",
              "  <thead>\n",
              "    <tr style=\"text-align: right;\">\n",
              "      <th></th>\n",
              "      <th>sepal_length</th>\n",
              "      <th>sepal_width</th>\n",
              "      <th>petal_length</th>\n",
              "      <th>petal_width</th>\n",
              "    </tr>\n",
              "  </thead>\n",
              "  <tbody>\n",
              "    <tr>\n",
              "      <th>0</th>\n",
              "      <td>-0.900681</td>\n",
              "      <td>1.032057</td>\n",
              "      <td>-1.341272</td>\n",
              "      <td>-1.312977</td>\n",
              "    </tr>\n",
              "    <tr>\n",
              "      <th>1</th>\n",
              "      <td>-1.143017</td>\n",
              "      <td>-0.124958</td>\n",
              "      <td>-1.341272</td>\n",
              "      <td>-1.312977</td>\n",
              "    </tr>\n",
              "    <tr>\n",
              "      <th>2</th>\n",
              "      <td>-1.385353</td>\n",
              "      <td>0.337848</td>\n",
              "      <td>-1.398138</td>\n",
              "      <td>-1.312977</td>\n",
              "    </tr>\n",
              "    <tr>\n",
              "      <th>3</th>\n",
              "      <td>-1.506521</td>\n",
              "      <td>0.106445</td>\n",
              "      <td>-1.284407</td>\n",
              "      <td>-1.312977</td>\n",
              "    </tr>\n",
              "    <tr>\n",
              "      <th>4</th>\n",
              "      <td>-1.021849</td>\n",
              "      <td>1.263460</td>\n",
              "      <td>-1.341272</td>\n",
              "      <td>-1.312977</td>\n",
              "    </tr>\n",
              "  </tbody>\n",
              "</table>\n",
              "</div>"
            ],
            "text/plain": [
              "   sepal_length  sepal_width  petal_length  petal_width\n",
              "0     -0.900681     1.032057     -1.341272    -1.312977\n",
              "1     -1.143017    -0.124958     -1.341272    -1.312977\n",
              "2     -1.385353     0.337848     -1.398138    -1.312977\n",
              "3     -1.506521     0.106445     -1.284407    -1.312977\n",
              "4     -1.021849     1.263460     -1.341272    -1.312977"
            ]
          },
          "metadata": {
            "tags": []
          },
          "execution_count": 58
        }
      ]
    },
    {
      "cell_type": "code",
      "metadata": {
        "id": "IgW9RJejMMp8",
        "colab_type": "code",
        "colab": {
          "base_uri": "https://localhost:8080/",
          "height": 84
        },
        "outputId": "666fd0da-fda5-4f16-cf42-5eac923d6301"
      },
      "source": [
        "cov_mat = cov(z.T)\n",
        "cov_mat"
      ],
      "execution_count": 59,
      "outputs": [
        {
          "output_type": "execute_result",
          "data": {
            "text/plain": [
              "array([[ 1.00671141, -0.11010327,  0.87760486,  0.82344326],\n",
              "       [-0.11010327,  1.00671141, -0.42333835, -0.358937  ],\n",
              "       [ 0.87760486, -0.42333835,  1.00671141,  0.96921855],\n",
              "       [ 0.82344326, -0.358937  ,  0.96921855,  1.00671141]])"
            ]
          },
          "metadata": {
            "tags": []
          },
          "execution_count": 59
        }
      ]
    },
    {
      "cell_type": "code",
      "metadata": {
        "id": "Zl5JFqZxMiUO",
        "colab_type": "code",
        "colab": {
          "base_uri": "https://localhost:8080/",
          "height": 101
        },
        "outputId": "9471c24e-598e-4539-f2fa-e3654d0e1a41"
      },
      "source": [
        "values, vectors = eig(cov_mat)\n",
        "print(values)\n",
        "print(vectors)"
      ],
      "execution_count": 60,
      "outputs": [
        {
          "output_type": "stream",
          "text": [
            "[2.93035378 0.92740362 0.14834223 0.02074601]\n",
            "[[ 0.52237162 -0.37231836 -0.72101681  0.26199559]\n",
            " [-0.26335492 -0.92555649  0.24203288 -0.12413481]\n",
            " [ 0.58125401 -0.02109478  0.14089226 -0.80115427]\n",
            " [ 0.56561105 -0.06541577  0.6338014   0.52354627]]\n"
          ],
          "name": "stdout"
        }
      ]
    },
    {
      "cell_type": "code",
      "metadata": {
        "id": "2XxO1EOFND5U",
        "colab_type": "code",
        "colab": {}
      },
      "source": [
        "p = vectors.T.dot(z.T)\n",
        "data = pd.DataFrame(p.T)"
      ],
      "execution_count": 0,
      "outputs": []
    },
    {
      "cell_type": "code",
      "metadata": {
        "id": "-yYoRB-jQMXF",
        "colab_type": "code",
        "colab": {
          "base_uri": "https://localhost:8080/",
          "height": 195
        },
        "outputId": "9bfa15ee-6c30-47e6-9848-2e15224fd3ce"
      },
      "source": [
        "data.head()"
      ],
      "execution_count": 66,
      "outputs": [
        {
          "output_type": "execute_result",
          "data": {
            "text/html": [
              "<div>\n",
              "<style scoped>\n",
              "    .dataframe tbody tr th:only-of-type {\n",
              "        vertical-align: middle;\n",
              "    }\n",
              "\n",
              "    .dataframe tbody tr th {\n",
              "        vertical-align: top;\n",
              "    }\n",
              "\n",
              "    .dataframe thead th {\n",
              "        text-align: right;\n",
              "    }\n",
              "</style>\n",
              "<table border=\"1\" class=\"dataframe\">\n",
              "  <thead>\n",
              "    <tr style=\"text-align: right;\">\n",
              "      <th></th>\n",
              "      <th>0</th>\n",
              "      <th>1</th>\n",
              "      <th>2</th>\n",
              "      <th>3</th>\n",
              "    </tr>\n",
              "  </thead>\n",
              "  <tbody>\n",
              "    <tr>\n",
              "      <th>0</th>\n",
              "      <td>-2.264542</td>\n",
              "      <td>-0.505704</td>\n",
              "      <td>-0.121943</td>\n",
              "      <td>0.023073</td>\n",
              "    </tr>\n",
              "    <tr>\n",
              "      <th>1</th>\n",
              "      <td>-2.086426</td>\n",
              "      <td>0.655405</td>\n",
              "      <td>-0.227251</td>\n",
              "      <td>0.103208</td>\n",
              "    </tr>\n",
              "    <tr>\n",
              "      <th>2</th>\n",
              "      <td>-2.367950</td>\n",
              "      <td>0.318477</td>\n",
              "      <td>0.051480</td>\n",
              "      <td>0.027825</td>\n",
              "    </tr>\n",
              "    <tr>\n",
              "      <th>3</th>\n",
              "      <td>-2.304197</td>\n",
              "      <td>0.575368</td>\n",
              "      <td>0.098860</td>\n",
              "      <td>-0.066311</td>\n",
              "    </tr>\n",
              "    <tr>\n",
              "      <th>4</th>\n",
              "      <td>-2.388777</td>\n",
              "      <td>-0.674767</td>\n",
              "      <td>0.021428</td>\n",
              "      <td>-0.037397</td>\n",
              "    </tr>\n",
              "  </tbody>\n",
              "</table>\n",
              "</div>"
            ],
            "text/plain": [
              "          0         1         2         3\n",
              "0 -2.264542 -0.505704 -0.121943  0.023073\n",
              "1 -2.086426  0.655405 -0.227251  0.103208\n",
              "2 -2.367950  0.318477  0.051480  0.027825\n",
              "3 -2.304197  0.575368  0.098860 -0.066311\n",
              "4 -2.388777 -0.674767  0.021428 -0.037397"
            ]
          },
          "metadata": {
            "tags": []
          },
          "execution_count": 66
        }
      ]
    },
    {
      "cell_type": "code",
      "metadata": {
        "id": "CDsF5YvnQPLT",
        "colab_type": "code",
        "colab": {
          "base_uri": "https://localhost:8080/",
          "height": 286
        },
        "outputId": "574ae2a0-d390-4509-aa85-267afc299747"
      },
      "source": [
        "plt.scatter(data[0],data[1])"
      ],
      "execution_count": 67,
      "outputs": [
        {
          "output_type": "execute_result",
          "data": {
            "text/plain": [
              "<matplotlib.collections.PathCollection at 0x7fabbbc1a588>"
            ]
          },
          "metadata": {
            "tags": []
          },
          "execution_count": 67
        },
        {
          "output_type": "display_data",
          "data": {
            "image/png": "[encoded data removed]",
            "text/plain": [
              "<Figure size 432x288 with 1 Axes>"
            ]
          },
          "metadata": {
            "tags": []
          }
        }
      ]
    },
    {
      "cell_type": "code",
      "metadata": {
        "id": "sTafhHNdNZLu",
        "colab_type": "code",
        "colab": {
          "base_uri": "https://localhost:8080/",
          "height": 286
        },
        "outputId": "4058f06f-b227-48f6-b7dc-dce1f0612fa1"
      },
      "source": [
        "from numpy import array\n",
        "from sklearn.preprocessing import StandardScaler\n",
        "from sklearn.decomposition import PCA\n",
        "X = df_x\n",
        "#print(\"Data: \\n\", X)\n",
        "# Standardize the Data\n",
        "# Instantiate a Standard Scaler object\n",
        "scaler = StandardScaler()\n",
        "# Use the object to fit_transform our data\n",
        "Z = scaler.fit_transform(X)\n",
        "#print(\"\\n Standardized Data: \\n\", Z)\n",
        "# create the PCA instance\n",
        "pca = PCA(2)\n",
        "\n",
        "pca.fit(Z)\n",
        "\n",
        "#print(\"\\n Eigenvectors: \\n\", pca.components_)\n",
        "#print(\"\\n Eigenvalues: \\n\",pca.explained_variance_)\n",
        "\n",
        "b = pca.transform(Z)\n",
        "\n",
        "\n",
        "dd = pd.DataFrame(b)\n",
        "dd.head()\n",
        "\n",
        "plt.scatter(dd[0],dd[1])"
      ],
      "execution_count": 91,
      "outputs": [
        {
          "output_type": "execute_result",
          "data": {
            "text/plain": [
              "<matplotlib.collections.PathCollection at 0x7fabba0efcf8>"
            ]
          },
          "metadata": {
            "tags": []
          },
          "execution_count": 91
        },
        {
          "output_type": "display_data",
          "data": {
            "image/png": "[encoded data removed]",
            "text/plain": [
              "<Figure size 432x288 with 1 Axes>"
            ]
          },
          "metadata": {
            "tags": []
          }
        }
      ]
    },
    {
      "cell_type": "code",
      "metadata": {
        "id": "bW6vgzweWCW4",
        "colab_type": "code",
        "colab": {
          "base_uri": "https://localhost:8080/",
          "height": 195
        },
        "outputId": "8bcdbb34-f48f-437c-8a12-aa582952227c"
      },
      "source": [
        "dd.head()"
      ],
      "execution_count": 92,
      "outputs": [
        {
          "output_type": "execute_result",
          "data": {
            "text/html": [
              "<div>\n",
              "<style scoped>\n",
              "    .dataframe tbody tr th:only-of-type {\n",
              "        vertical-align: middle;\n",
              "    }\n",
              "\n",
              "    .dataframe tbody tr th {\n",
              "        vertical-align: top;\n",
              "    }\n",
              "\n",
              "    .dataframe thead th {\n",
              "        text-align: right;\n",
              "    }\n",
              "</style>\n",
              "<table border=\"1\" class=\"dataframe\">\n",
              "  <thead>\n",
              "    <tr style=\"text-align: right;\">\n",
              "      <th></th>\n",
              "      <th>0</th>\n",
              "      <th>1</th>\n",
              "    </tr>\n",
              "  </thead>\n",
              "  <tbody>\n",
              "    <tr>\n",
              "      <th>0</th>\n",
              "      <td>-2.264542</td>\n",
              "      <td>0.505704</td>\n",
              "    </tr>\n",
              "    <tr>\n",
              "      <th>1</th>\n",
              "      <td>-2.086426</td>\n",
              "      <td>-0.655405</td>\n",
              "    </tr>\n",
              "    <tr>\n",
              "      <th>2</th>\n",
              "      <td>-2.367950</td>\n",
              "      <td>-0.318477</td>\n",
              "    </tr>\n",
              "    <tr>\n",
              "      <th>3</th>\n",
              "      <td>-2.304197</td>\n",
              "      <td>-0.575368</td>\n",
              "    </tr>\n",
              "    <tr>\n",
              "      <th>4</th>\n",
              "      <td>-2.388777</td>\n",
              "      <td>0.674767</td>\n",
              "    </tr>\n",
              "  </tbody>\n",
              "</table>\n",
              "</div>"
            ],
            "text/plain": [
              "          0         1\n",
              "0 -2.264542  0.505704\n",
              "1 -2.086426 -0.655405\n",
              "2 -2.367950 -0.318477\n",
              "3 -2.304197 -0.575368\n",
              "4 -2.388777  0.674767"
            ]
          },
          "metadata": {
            "tags": []
          },
          "execution_count": 92
        }
      ]
    },
    {
      "cell_type": "code",
      "metadata": {
        "id": "oWtgc2ikWHju",
        "colab_type": "code",
        "colab": {
          "base_uri": "https://localhost:8080/",
          "height": 34
        },
        "outputId": "b3edf55b-a2ee-4041-bb5d-6edccf05fd9a"
      },
      "source": [
        "dd.shape"
      ],
      "execution_count": 93,
      "outputs": [
        {
          "output_type": "execute_result",
          "data": {
            "text/plain": [
              "(150, 2)"
            ]
          },
          "metadata": {
            "tags": []
          },
          "execution_count": 93
        }
      ]
    },
    {
      "cell_type": "code",
      "metadata": {
        "id": "DWfLgLFLWL3i",
        "colab_type": "code",
        "colab": {
          "base_uri": "https://localhost:8080/",
          "height": 34
        },
        "outputId": "bf8aafae-9522-4f38-aebd-521b75d93760"
      },
      "source": [
        "df_y.shape"
      ],
      "execution_count": 94,
      "outputs": [
        {
          "output_type": "execute_result",
          "data": {
            "text/plain": [
              "(150, 1)"
            ]
          },
          "metadata": {
            "tags": []
          },
          "execution_count": 94
        }
      ]
    },
    {
      "cell_type": "code",
      "metadata": {
        "id": "-jvkVLvnXQQ0",
        "colab_type": "code",
        "colab": {}
      },
      "source": [
        "dr = pd.read_csv('https://gist.githubusercontent.com/curran/a08a1080b88344b0c8a7/raw/d546eaee765268bf2f487608c537c05e22e4b221/iris.csv')\n",
        "df_yy = dr[['species']]"
      ],
      "execution_count": 0,
      "outputs": []
    },
    {
      "cell_type": "code",
      "metadata": {
        "id": "q4j0yz1lXUXH",
        "colab_type": "code",
        "colab": {
          "base_uri": "https://localhost:8080/",
          "height": 195
        },
        "outputId": "af198a4b-c033-4df9-f149-42f1aad498fa"
      },
      "source": [
        "df_yy.head()"
      ],
      "execution_count": 96,
      "outputs": [
        {
          "output_type": "execute_result",
          "data": {
            "text/html": [
              "<div>\n",
              "<style scoped>\n",
              "    .dataframe tbody tr th:only-of-type {\n",
              "        vertical-align: middle;\n",
              "    }\n",
              "\n",
              "    .dataframe tbody tr th {\n",
              "        vertical-align: top;\n",
              "    }\n",
              "\n",
              "    .dataframe thead th {\n",
              "        text-align: right;\n",
              "    }\n",
              "</style>\n",
              "<table border=\"1\" class=\"dataframe\">\n",
              "  <thead>\n",
              "    <tr style=\"text-align: right;\">\n",
              "      <th></th>\n",
              "      <th>species</th>\n",
              "    </tr>\n",
              "  </thead>\n",
              "  <tbody>\n",
              "    <tr>\n",
              "      <th>0</th>\n",
              "      <td>setosa</td>\n",
              "    </tr>\n",
              "    <tr>\n",
              "      <th>1</th>\n",
              "      <td>setosa</td>\n",
              "    </tr>\n",
              "    <tr>\n",
              "      <th>2</th>\n",
              "      <td>setosa</td>\n",
              "    </tr>\n",
              "    <tr>\n",
              "      <th>3</th>\n",
              "      <td>setosa</td>\n",
              "    </tr>\n",
              "    <tr>\n",
              "      <th>4</th>\n",
              "      <td>setosa</td>\n",
              "    </tr>\n",
              "  </tbody>\n",
              "</table>\n",
              "</div>"
            ],
            "text/plain": [
              "  species\n",
              "0  setosa\n",
              "1  setosa\n",
              "2  setosa\n",
              "3  setosa\n",
              "4  setosa"
            ]
          },
          "metadata": {
            "tags": []
          },
          "execution_count": 96
        }
      ]
    },
    {
      "cell_type": "code",
      "metadata": {
        "id": "PqJ7kJFgWOlA",
        "colab_type": "code",
        "colab": {
          "base_uri": "https://localhost:8080/",
          "height": 195
        },
        "outputId": "8c3fb339-e501-4147-de6d-2d239ad2676c"
      },
      "source": [
        "dy = pd.concat([dd,df_yy], axis=1)\n",
        "dy.head()"
      ],
      "execution_count": 97,
      "outputs": [
        {
          "output_type": "execute_result",
          "data": {
            "text/html": [
              "<div>\n",
              "<style scoped>\n",
              "    .dataframe tbody tr th:only-of-type {\n",
              "        vertical-align: middle;\n",
              "    }\n",
              "\n",
              "    .dataframe tbody tr th {\n",
              "        vertical-align: top;\n",
              "    }\n",
              "\n",
              "    .dataframe thead th {\n",
              "        text-align: right;\n",
              "    }\n",
              "</style>\n",
              "<table border=\"1\" class=\"dataframe\">\n",
              "  <thead>\n",
              "    <tr style=\"text-align: right;\">\n",
              "      <th></th>\n",
              "      <th>0</th>\n",
              "      <th>1</th>\n",
              "      <th>species</th>\n",
              "    </tr>\n",
              "  </thead>\n",
              "  <tbody>\n",
              "    <tr>\n",
              "      <th>0</th>\n",
              "      <td>-2.264542</td>\n",
              "      <td>0.505704</td>\n",
              "      <td>setosa</td>\n",
              "    </tr>\n",
              "    <tr>\n",
              "      <th>1</th>\n",
              "      <td>-2.086426</td>\n",
              "      <td>-0.655405</td>\n",
              "      <td>setosa</td>\n",
              "    </tr>\n",
              "    <tr>\n",
              "      <th>2</th>\n",
              "      <td>-2.367950</td>\n",
              "      <td>-0.318477</td>\n",
              "      <td>setosa</td>\n",
              "    </tr>\n",
              "    <tr>\n",
              "      <th>3</th>\n",
              "      <td>-2.304197</td>\n",
              "      <td>-0.575368</td>\n",
              "      <td>setosa</td>\n",
              "    </tr>\n",
              "    <tr>\n",
              "      <th>4</th>\n",
              "      <td>-2.388777</td>\n",
              "      <td>0.674767</td>\n",
              "      <td>setosa</td>\n",
              "    </tr>\n",
              "  </tbody>\n",
              "</table>\n",
              "</div>"
            ],
            "text/plain": [
              "          0         1 species\n",
              "0 -2.264542  0.505704  setosa\n",
              "1 -2.086426 -0.655405  setosa\n",
              "2 -2.367950 -0.318477  setosa\n",
              "3 -2.304197 -0.575368  setosa\n",
              "4 -2.388777  0.674767  setosa"
            ]
          },
          "metadata": {
            "tags": []
          },
          "execution_count": 97
        }
      ]
    },
    {
      "cell_type": "code",
      "metadata": {
        "id": "zdsaDo-qW7-j",
        "colab_type": "code",
        "colab": {
          "base_uri": "https://localhost:8080/",
          "height": 301
        },
        "outputId": "c56a6654-3123-4751-e1d6-38641ce8e7a3"
      },
      "source": [
        "sns.scatterplot(x=dy[0], y=dy[1],hue='species',data=dy)"
      ],
      "execution_count": 98,
      "outputs": [
        {
          "output_type": "execute_result",
          "data": {
            "text/plain": [
              "<matplotlib.axes._subplots.AxesSubplot at 0x7fabba0d55c0>"
            ]
          },
          "metadata": {
            "tags": []
          },
          "execution_count": 98
        },
        {
          "output_type": "display_data",
          "data": {
            "image/png": "[encoded data removed]",
            "text/plain": [
              "<Figure size 432x288 with 1 Axes>"
            ]
          },
          "metadata": {
            "tags": []
          }
        }
      ]
    },
    {
      "cell_type": "markdown",
      "metadata": {
        "id": "RQx7UvsucIrL",
        "colab_type": "text"
      },
      "source": [
        "# Stretch Goal\n",
        "\n",
        "## 1) Do NOT work on the stretch goal until you feel like you have a firm grasp of eigenvectors, eigenvalues, and PCA. Prioritize self-study over the stretch goal if you are not comfortable with those topics yet.\n",
        "\n",
        "## 2) Explore further the intuition behind eigenvalues and eigenvectors by creating your very own eigenfaces:\n",
        "\n",
        "<center>![Eigenfaces](https://i.pinimg.com/236x/1c/f1/01/1cf101a9859437a5d096a04b05be06b4--faces-tattoo.jpg)</center>\n",
        "\n",
        "You don't necessarily have to use this resource, but this will get you started: \n",
        "[Eigenface Tutorial](https://sandipanweb.wordpress.com/2018/01/06/eigenfaces-and-a-simple-face-detector-with-pca-svd-in-python/)"
      ]
    },
    {
      "cell_type": "code",
      "metadata": {
        "id": "P4tMPGKNAfzg",
        "colab_type": "code",
        "colab": {}
      },
      "source": [
        ""
      ],
      "execution_count": 0,
      "outputs": []
    }
  ]
}